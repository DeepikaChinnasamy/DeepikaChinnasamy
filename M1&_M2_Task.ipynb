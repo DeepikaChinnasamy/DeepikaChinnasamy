{
  "nbformat": 4,
  "nbformat_minor": 0,
  "metadata": {
    "colab": {
      "provenance": []
    },
    "kernelspec": {
      "name": "python3",
      "display_name": "Python 3"
    },
    "language_info": {
      "name": "python"
    }
  },
  "cells": [
    {
      "cell_type": "markdown",
      "source": [
        "# 1. Create list with grocery details"
      ],
      "metadata": {
        "id": "OHBq-5okVurj"
      }
    },
    {
      "cell_type": "code",
      "execution_count": null,
      "metadata": {
        "colab": {
          "base_uri": "https://localhost:8080/"
        },
        "id": "xUIzYTF6VhsZ",
        "outputId": "f87df16c-92dd-41d2-f61d-ff03a68ab05c"
      },
      "outputs": [
        {
          "output_type": "stream",
          "name": "stdout",
          "text": [
            "['onion', 'Tomato', 'Potato', 'Carrot', 'Betroot', 'Rice', 'Oil', 'Cheese']\n"
          ]
        }
      ],
      "source": [
        "lis=[\"onion\",\"Tomato\",\"Potato\",\"Carrot\",\"Betroot\",\"Rice\",\"Oil\",\"Cheese\"]\n",
        "print(lis)"
      ]
    },
    {
      "cell_type": "code",
      "source": [
        "type(lis)"
      ],
      "metadata": {
        "colab": {
          "base_uri": "https://localhost:8080/"
        },
        "id": "NaEogPbBWrzQ",
        "outputId": "41444f94-7f07-4315-934d-27222f0c699a"
      },
      "execution_count": null,
      "outputs": [
        {
          "output_type": "execute_result",
          "data": {
            "text/plain": [
              "list"
            ]
          },
          "metadata": {},
          "execution_count": 2
        }
      ]
    },
    {
      "cell_type": "code",
      "source": [
        "lis.append(\"Eggs\")\n",
        "print(lis)"
      ],
      "metadata": {
        "colab": {
          "base_uri": "https://localhost:8080/"
        },
        "id": "wL9J7trsWwK6",
        "outputId": "e9d849a3-a351-46ff-b51f-35dd338a0ee3"
      },
      "execution_count": null,
      "outputs": [
        {
          "output_type": "stream",
          "name": "stdout",
          "text": [
            "['onion', 'Tomato', 'Potato', 'Carrot', 'Betroot', 'Rice', 'Oil', 'Cheese', 'Eggs', '5', ' ', 'l', 't', ' ', 'o', 'i', 'l', '5', ' ', 'l', 't', ' ', 'o', 'i', 'l', 'Eggs', '5', 'l', 't', 'o', 'i', 'l', 'Eggs', 'Eggs']\n"
          ]
        }
      ]
    },
    {
      "cell_type": "code",
      "source": [
        "lis.remove(\"Eggs\")\n",
        "print(lis)"
      ],
      "metadata": {
        "colab": {
          "base_uri": "https://localhost:8080/"
        },
        "id": "Sezq_v_0XcN5",
        "outputId": "f76d6d4a-1891-41b6-fa75-bbb3d70f48ec"
      },
      "execution_count": null,
      "outputs": [
        {
          "output_type": "stream",
          "name": "stdout",
          "text": [
            "['onion', 'Tomato', 'Potato', 'Carrot', 'Betroot', 'Rice', 'Oil', 'Cheese', '5', ' ', 'l', 't', ' ', 'o', 'i', 'l', '5', ' ', 'l', 't', ' ', 'o', 'i', 'l', '5', 'l', 't', 'o', 'i', 'l', 'Eggs']\n"
          ]
        }
      ]
    },
    {
      "cell_type": "code",
      "source": [
        "del lis[8:14]\n",
        "print(lis)"
      ],
      "metadata": {
        "colab": {
          "base_uri": "https://localhost:8080/"
        },
        "id": "fkFESgWKXm1l",
        "outputId": "b955f1df-cd93-4520-d9dc-0842915331ac"
      },
      "execution_count": null,
      "outputs": [
        {
          "output_type": "stream",
          "name": "stdout",
          "text": [
            "['onion', 'Tomato', 'Potato', 'Carrot', 'Betroot', 'Rice', 'Oil', 'Cheese', 'Eggs']\n"
          ]
        }
      ]
    },
    {
      "cell_type": "code",
      "source": [
        "lis.count\n",
        "lis"
      ],
      "metadata": {
        "colab": {
          "base_uri": "https://localhost:8080/"
        },
        "id": "ud0cjsj_aHO2",
        "outputId": "37fc184c-7aa2-49cc-da0f-043acceb513e"
      },
      "execution_count": null,
      "outputs": [
        {
          "output_type": "execute_result",
          "data": {
            "text/plain": [
              "['onion',\n",
              " 'Tomato',\n",
              " 'Potato',\n",
              " 'Carrot',\n",
              " 'Betroot',\n",
              " 'Rice',\n",
              " 'Oil',\n",
              " 'Cheese',\n",
              " 'Eggs']"
            ]
          },
          "metadata": {},
          "execution_count": 28
        }
      ]
    },
    {
      "cell_type": "code",
      "source": [
        "lis.sort\n",
        "lis"
      ],
      "metadata": {
        "colab": {
          "base_uri": "https://localhost:8080/"
        },
        "id": "XxGsrsCqbAr1",
        "outputId": "d8d4c2b4-9491-405c-84e0-32f033c3532f"
      },
      "execution_count": null,
      "outputs": [
        {
          "output_type": "execute_result",
          "data": {
            "text/plain": [
              "['onion',\n",
              " 'Tomato',\n",
              " 'Potato',\n",
              " 'Carrot',\n",
              " 'Betroot',\n",
              " 'Rice',\n",
              " 'Oil',\n",
              " 'Cheese',\n",
              " 'Eggs']"
            ]
          },
          "metadata": {},
          "execution_count": 29
        }
      ]
    },
    {
      "cell_type": "code",
      "source": [
        "lis.append(\"Eggs\")\n",
        "lis"
      ],
      "metadata": {
        "colab": {
          "base_uri": "https://localhost:8080/"
        },
        "id": "BbHNWvJVbKkN",
        "outputId": "0af27898-8b6f-462b-b224-18761fd41e18"
      },
      "execution_count": null,
      "outputs": [
        {
          "output_type": "execute_result",
          "data": {
            "text/plain": [
              "['onion',\n",
              " 'Tomato',\n",
              " 'Potato',\n",
              " 'Carrot',\n",
              " 'Betroot',\n",
              " 'Rice',\n",
              " 'Oil',\n",
              " 'Cheese',\n",
              " 'Eggs',\n",
              " 'Eggs',\n",
              " 'Eggs']"
            ]
          },
          "metadata": {},
          "execution_count": 36
        }
      ]
    },
    {
      "cell_type": "code",
      "source": [
        "del lis[9]\n",
        "lis"
      ],
      "metadata": {
        "colab": {
          "base_uri": "https://localhost:8080/"
        },
        "id": "imre1rzVcjZ9",
        "outputId": "776561a3-9b82-4beb-82d4-6605b40bf181"
      },
      "execution_count": null,
      "outputs": [
        {
          "output_type": "execute_result",
          "data": {
            "text/plain": [
              "['onion',\n",
              " 'Tomato',\n",
              " 'Potato',\n",
              " 'Carrot',\n",
              " 'Betroot',\n",
              " 'Rice',\n",
              " 'Oil',\n",
              " 'Cheese',\n",
              " 'Eggs']"
            ]
          },
          "metadata": {},
          "execution_count": 40
        }
      ]
    },
    {
      "cell_type": "markdown",
      "source": [
        "# 2. Conditional Statement"
      ],
      "metadata": {
        "id": "yanJgsUFcSeO"
      }
    },
    {
      "cell_type": "code",
      "source": [
        "A=int(input())\n",
        "B=int(input())\n",
        "C=int(input())\n",
        "if A>B and C>B:\n",
        "  AC2=(A*C)**2\n",
        "  print(AC2)\n",
        "elif B>A or B>C:\n",
        "  BC2=(B*C)**2\n",
        "  print(BC2)\n",
        "elif C>A and C>B:\n",
        "  print(C)\n"
      ],
      "metadata": {
        "colab": {
          "base_uri": "https://localhost:8080/"
        },
        "id": "SXsJq4B-bShP",
        "outputId": "2b173a78-ef4e-4ed4-cceb-b1810238cfd6"
      },
      "execution_count": 34,
      "outputs": [
        {
          "output_type": "stream",
          "name": "stdout",
          "text": [
            "5\n",
            "8\n",
            "6\n",
            "2304\n"
          ]
        }
      ]
    },
    {
      "cell_type": "markdown",
      "source": [
        "# 3. looping prime number"
      ],
      "metadata": {
        "id": "heF3Si1LojEI"
      }
    },
    {
      "cell_type": "code",
      "source": [
        "for i in range(1,101):\n",
        "  count=0\n",
        "  for j in range(1,i+1):\n",
        "    if i%j==0:\n",
        "      count=count+1\n",
        "  if count==2:\n",
        "    if i%2==0:\n",
        "      print(i,\"Even number\")\n",
        "    else:\n",
        "      print(i,\"Odd number\")"
      ],
      "metadata": {
        "colab": {
          "base_uri": "https://localhost:8080/"
        },
        "id": "UN29cHRmycg2",
        "outputId": "4d4322cc-373f-4609-d484-a4f4004c09e2"
      },
      "execution_count": null,
      "outputs": [
        {
          "output_type": "stream",
          "name": "stdout",
          "text": [
            "2 Even number\n",
            "3 Odd number\n",
            "5 Odd number\n",
            "7 Odd number\n",
            "11 Odd number\n",
            "13 Odd number\n",
            "17 Odd number\n",
            "19 Odd number\n",
            "23 Odd number\n",
            "29 Odd number\n",
            "31 Odd number\n",
            "37 Odd number\n",
            "41 Odd number\n",
            "43 Odd number\n",
            "47 Odd number\n",
            "53 Odd number\n",
            "59 Odd number\n",
            "61 Odd number\n",
            "67 Odd number\n",
            "71 Odd number\n",
            "73 Odd number\n",
            "79 Odd number\n",
            "83 Odd number\n",
            "89 Odd number\n",
            "97 Odd number\n"
          ]
        }
      ]
    },
    {
      "cell_type": "markdown",
      "source": [
        "\n",
        "### 4. List comprehension\n"
      ],
      "metadata": {
        "id": "tcCvpQcQ45lx"
      }
    },
    {
      "cell_type": "code",
      "source": [
        "list1=[num for num in range(0,100)]"
      ],
      "metadata": {
        "id": "B8bMBuXgLZOW"
      },
      "execution_count": null,
      "outputs": []
    },
    {
      "cell_type": "code",
      "source": [],
      "metadata": {
        "id": "9Ad7xtIQLY-R"
      },
      "execution_count": null,
      "outputs": []
    },
    {
      "cell_type": "markdown",
      "source": [
        "# math function"
      ],
      "metadata": {
        "id": "n8bl14T6ZBNH"
      }
    },
    {
      "cell_type": "code",
      "source": [
        "import math\n",
        "def fun(x,y,z):\n",
        "  ab=math.log(x)+math.sin(y)+math.tan(z)\n",
        "  return ab"
      ],
      "metadata": {
        "id": "tC6hL9YD2zEi"
      },
      "execution_count": null,
      "outputs": []
    },
    {
      "cell_type": "code",
      "source": [
        "fun(1,2,3)"
      ],
      "metadata": {
        "colab": {
          "base_uri": "https://localhost:8080/"
        },
        "id": "564RBTiH4t2I",
        "outputId": "7b25fb34-0911-4e0e-cf78-095674a768c1"
      },
      "execution_count": null,
      "outputs": [
        {
          "output_type": "execute_result",
          "data": {
            "text/plain": [
              "0.7667508837514039"
            ]
          },
          "metadata": {},
          "execution_count": 5
        }
      ]
    },
    {
      "cell_type": "code",
      "source": [
        "import math\n",
        "def fun1(x,z):\n",
        "  tan_y=math.sin(x)/math.cos(z)\n",
        "  return tan_y"
      ],
      "metadata": {
        "id": "jl_b2sN1ZwkD"
      },
      "execution_count": null,
      "outputs": []
    },
    {
      "cell_type": "code",
      "source": [
        "fun1(5,10)"
      ],
      "metadata": {
        "colab": {
          "base_uri": "https://localhost:8080/"
        },
        "id": "MM72SAtEfqPC",
        "outputId": "8c25a441-5369-42a7-d06c-a39f58c2bed4"
      },
      "execution_count": null,
      "outputs": [
        {
          "output_type": "execute_result",
          "data": {
            "text/plain": [
              "1.1428397239489287"
            ]
          },
          "metadata": {},
          "execution_count": 10
        }
      ]
    },
    {
      "cell_type": "code",
      "source": [
        "def fun3(r):\n",
        "  a=1/1-(r**2)\n",
        "  return a"
      ],
      "metadata": {
        "id": "oNd60A7KftYM"
      },
      "execution_count": null,
      "outputs": []
    },
    {
      "cell_type": "code",
      "source": [
        "fun3(2)"
      ],
      "metadata": {
        "colab": {
          "base_uri": "https://localhost:8080/"
        },
        "id": "a1vzFbc3guws",
        "outputId": "915d1fd8-484f-4004-d324-e15c177cc30f"
      },
      "execution_count": null,
      "outputs": [
        {
          "output_type": "execute_result",
          "data": {
            "text/plain": [
              "-3.0"
            ]
          },
          "metadata": {},
          "execution_count": 12
        }
      ]
    },
    {
      "cell_type": "code",
      "source": [
        "def fun4(x1,x2,y1,y2):\n",
        "  D=(((x2-x1)**2)+((y2-y1)**2))**0.5\n",
        "  return D"
      ],
      "metadata": {
        "id": "IKcCHkWOgxQO"
      },
      "execution_count": null,
      "outputs": []
    },
    {
      "cell_type": "code",
      "source": [
        "fun4(4,6,0,6)"
      ],
      "metadata": {
        "colab": {
          "base_uri": "https://localhost:8080/"
        },
        "id": "xsFQcS35g38F",
        "outputId": "4e190d73-5851-4c39-a927-776558ad5aee"
      },
      "execution_count": null,
      "outputs": [
        {
          "output_type": "execute_result",
          "data": {
            "text/plain": [
              "6.324555320336759"
            ]
          },
          "metadata": {},
          "execution_count": 24
        }
      ]
    },
    {
      "cell_type": "code",
      "source": [
        "class maths_fuction:\n",
        "  import math\n",
        "  def fun(x,y,z):\n",
        "    ab=math.log(x)+math.sin(y)+math.tan(z)\n",
        "    return ab\n",
        "\n",
        "  import math\n",
        "  def fun1(x,z):\n",
        "    tan_y=math.sin(x)/math.cos(z)\n",
        "    return tan_y\n",
        "\n",
        "  def fun3(r):\n",
        "    a=1/1-(r**2)\n",
        "    return a\n",
        "\n",
        "  def fun4(x1,x2,y1,y2):\n",
        "    D=(((x2-x1)**2)+((y2-y1)**2))**0.5\n",
        "    return D"
      ],
      "metadata": {
        "id": "8BN79MvPh9O9"
      },
      "execution_count": null,
      "outputs": []
    },
    {
      "cell_type": "code",
      "source": [
        "maths_fuction.fun3(5)"
      ],
      "metadata": {
        "colab": {
          "base_uri": "https://localhost:8080/"
        },
        "id": "I2XVVKxxj5BO",
        "outputId": "68cfc8fb-b2bb-4cff-a93b-3df7803a569e"
      },
      "execution_count": null,
      "outputs": [
        {
          "output_type": "execute_result",
          "data": {
            "text/plain": [
              "-24.0"
            ]
          },
          "metadata": {},
          "execution_count": 26
        }
      ]
    },
    {
      "cell_type": "markdown",
      "source": [
        "## Lambda function"
      ],
      "metadata": {
        "id": "2fihzlMcqJPJ"
      }
    },
    {
      "cell_type": "code",
      "source": [
        "formul=lambda a,b,c: (b**2)-(4*a*c)/(2*a)"
      ],
      "metadata": {
        "id": "k7zkEp0FkB4N"
      },
      "execution_count": 3,
      "outputs": []
    },
    {
      "cell_type": "code",
      "source": [
        "formul(2,4,6)"
      ],
      "metadata": {
        "colab": {
          "base_uri": "https://localhost:8080/"
        },
        "id": "rZbKaaqUdg94",
        "outputId": "156b1c72-73f9-4706-e3be-1d546f423fa4"
      },
      "execution_count": 4,
      "outputs": [
        {
          "output_type": "execute_result",
          "data": {
            "text/plain": [
              "4.0"
            ]
          },
          "metadata": {},
          "execution_count": 4
        }
      ]
    },
    {
      "cell_type": "markdown",
      "source": [
        "## Regex exp"
      ],
      "metadata": {
        "id": "oSAQR8F7Zirq"
      }
    },
    {
      "cell_type": "code",
      "source": [
        "import re"
      ],
      "metadata": {
        "id": "x7R1YSTZIBFg"
      },
      "execution_count": 21,
      "outputs": []
    },
    {
      "cell_type": "code",
      "source": [
        "String =\"My name Deepika Chinnasamy My mobile number is 8838294724 my Age is 23\""
      ],
      "metadata": {
        "id": "zhELgxj8Znc7"
      },
      "execution_count": 22,
      "outputs": []
    },
    {
      "cell_type": "code",
      "source": [
        "ph=re.findall(\"\\d+\",String)[0]\n",
        "ph"
      ],
      "metadata": {
        "colab": {
          "base_uri": "https://localhost:8080/",
          "height": 35
        },
        "id": "F9JMajjGGSx2",
        "outputId": "93ca0fdd-9858-4378-d13f-fe1dc2bf5ffe"
      },
      "execution_count": 29,
      "outputs": [
        {
          "output_type": "execute_result",
          "data": {
            "text/plain": [
              "'8838294724'"
            ],
            "application/vnd.google.colaboratory.intrinsic+json": {
              "type": "string"
            }
          },
          "metadata": {},
          "execution_count": 29
        }
      ]
    },
    {
      "cell_type": "code",
      "source": [
        "ph=re.findall(\"\\d+\",String)[1]\n",
        "ph"
      ],
      "metadata": {
        "colab": {
          "base_uri": "https://localhost:8080/",
          "height": 35
        },
        "id": "kkfGeRStGZhM",
        "outputId": "1a8093ed-9e09-4806-b6f8-684671a30e3a"
      },
      "execution_count": 31,
      "outputs": [
        {
          "output_type": "execute_result",
          "data": {
            "text/plain": [
              "'23'"
            ],
            "application/vnd.google.colaboratory.intrinsic+json": {
              "type": "string"
            }
          },
          "metadata": {},
          "execution_count": 31
        }
      ]
    },
    {
      "cell_type": "code",
      "source": [],
      "metadata": {
        "id": "5pyqrGkJJYik"
      },
      "execution_count": null,
      "outputs": []
    }
  ]
}